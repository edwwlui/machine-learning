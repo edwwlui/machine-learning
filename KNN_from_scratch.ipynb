{
 "cells": [
  {
   "cell_type": "markdown",
   "metadata": {},
   "source": [
    "# Preprocessing\n",
    "Data set: wisc_bc_data_preprocessed\n",
    "Source: Breast Cancer Wisconsin (Diagnostic) dataset\n",
    "https://github.com/dataspelunking/MLwR/blob/master/Machine%20Learning%20with%20R%20(2nd%20Ed.)/Chapter%2003/wisc_bc_data.csv\n",
    "\n",
    "1. Deleted the first column, id, which is not useful.\n",
    "2. Moved the column of diagnosis to the last, as the column of label.\n",
    "3. Normalized the data set using the mean and the standard deviation in each column."
   ]
  },
  {
   "cell_type": "markdown",
   "metadata": {},
   "source": [
    "## Part 1 Different values of k"
   ]
  },
  {
   "cell_type": "markdown",
   "metadata": {},
   "source": [
    "Each experiment has five variable in total.\n",
    "k value: variable\n",
    "weights according to distance: true or false\n",
    "threshold: variable or false\n",
    "tie: true or false\n",
    "splitting ratio: variable\n",
    "where threshold comes together with weights according to distance.\n",
    "\n",
    "In the following experiment, the ratio of training subset and testing subset is fixed to be 469:100 and the test cases are selected randomly.\n",
    "In the first experiment, every nearest k-th neigbors gives one vote, irregardless of their distance.\n",
    "In case of a tie, the first response is returned.\n",
    "No threshold is added."
   ]
  },
  {
   "cell_type": "code",
   "execution_count": 15,
   "metadata": {},
   "outputs": [
    {
     "name": "stdout",
     "output_type": "stream",
     "text": [
      "Number of train cases: 469\n",
      "Number of test cases: 100\n",
      "Accuracy: 96.0%\n"
     ]
    }
   ],
   "source": [
    "import csv\n",
    "import random\n",
    "import math\n",
    "import operator\n",
    " \n",
    "def loadDataset(filename, NumOfTest, trainingSet=[] , testSet=[]):\n",
    "\twith open(filename, 'r') as csvfile:\n",
    "\t    lines = csv.reader(csvfile)\n",
    "\t    next(lines, None)  #skip the first line which is headers\n",
    "\t    datarow = list(lines)\n",
    "\t    for x in range(len(datarow)):\n",
    "\t        for y in range(30):\n",
    "\t            datarow[x][y] = float(datarow[x][y])\n",
    "\t        if len(testSet)<NumOfTest:\n",
    "\t            if random.random() < 0.5:  #0<=random.random()<=1, 50% to be testSet\n",
    "\t                trainingSet.append(datarow[x])\n",
    "\t            else:\n",
    "\t                testSet.append(datarow[x])\n",
    "\t        else:\n",
    "\t            trainingSet.append(datarow[x])\n",
    "\n",
    "def euclideanDistance(value1, value2, length):\n",
    "\tdistance = 0\n",
    "\tfor x in range(length):\n",
    "\t\tdistance += pow((value1[x] - value2[x]), 2)\n",
    "\treturn math.sqrt(distance)\n",
    " \n",
    "def getNeighbors(trainingSet, testInstance, k):\n",
    "\tdistances = []\n",
    "\tlength = len(testInstance)-1\n",
    "#last col:label\n",
    "\tfor x in range(len(trainingSet)):\n",
    "\t\tdist = euclideanDistance(testInstance, trainingSet[x], length)\n",
    "\t\tdistances.append([trainingSet[x], dist])\n",
    "\tdistances.sort(key=operator.itemgetter(1))  #sort the first item in a list of distances list\n",
    "\tneighbors = []\n",
    "\tfor x in range(k):\n",
    "\t\tneighbors.append(distances[x][0])  #append both trainingSet[x] and dist for k neighbors\n",
    "\treturn neighbors\n",
    " \n",
    "def getResponse(neighbors):\n",
    "\tclassVotes = {}\n",
    "\tfor x in range(len(neighbors)):\n",
    "\t\tresponse = neighbors[x][-1]\n",
    "#-1: from the right\n",
    "\t\tif response in classVotes:\n",
    "\t\t\tclassVotes[response] += 1\n",
    "\t\telse:\n",
    "\t\t\tclassVotes[response] = 1\n",
    "\tsortedVotes = sorted(classVotes.items(), key=operator.itemgetter(1), reverse=True)\n",
    "\treturn sortedVotes[0][0]\n",
    "#return the first response in case of a tie\n",
    "\n",
    "def getAccuracy(testSet, predictions):\n",
    "\tcorrect = 0\n",
    "\tfor x in range(len(testSet)):\n",
    "\t\tif testSet[x][-1] == predictions[x]:\n",
    "\t\t\tcorrect += 1\n",
    "\treturn (correct/float(len(testSet))) * 100.0\n",
    "\t\n",
    "def main():\n",
    "\t# prepare data\n",
    "\ttrainingSet=[]\n",
    "\ttestSet=[]\n",
    "\tNumOfTest = 100\n",
    "\tloadDataset('wisc_bc_data_preprocessed.csv', NumOfTest, trainingSet, testSet)\n",
    "\tprint ('Number of train cases: ' + repr(len(trainingSet)) )\n",
    "\tprint ('Number of test cases: ' + repr(len(testSet)) )\n",
    "\t# generate predictions\n",
    "\tpredictions=[]\n",
    "\tk = 7\n",
    "\tfor x in range(len(testSet)):\n",
    "\t\tneighbors = getNeighbors(trainingSet, testSet[x], k)\n",
    "\t\tresult = getResponse(neighbors)\n",
    "\t\tpredictions.append(result)\n",
    "\t\t#print('predicted=' + repr(result) + ', actual=' + repr(testSet[x][-1]))\n",
    "\taccuracy = getAccuracy(testSet, predictions)\n",
    "\tprint('Accuracy: ' + repr(accuracy) + '%')\n",
    "\t\n",
    "main()"
   ]
  },
  {
   "cell_type": "markdown",
   "metadata": {},
   "source": [
    "when k=22, which is the square root(the number of train cases), the highest accuracy is propably:\n",
    "\n",
    "Number of train cases: 469\n",
    "Number of test cases: 100\n",
    "Accuracy: 96.0%"
   ]
  },
  {
   "cell_type": "markdown",
   "metadata": {},
   "source": [
    "when k=10, the highest accuracy increases apparently:\n",
    "Number of train cases: 469\n",
    "Number of test cases: 100\n",
    "Accuracy: 98.0%"
   ]
  },
  {
   "cell_type": "markdown",
   "metadata": {},
   "source": [
    "when k=7, the highest accuracy drops apparently:\n",
    "Number of train cases: 469\n",
    "Number of test cases: 100\n",
    "Accuracy: 97.0%"
   ]
  },
  {
   "cell_type": "markdown",
   "metadata": {},
   "source": [
    "## Part 2: Different ways to do the voting(where k>2)"
   ]
  },
  {
   "cell_type": "markdown",
   "metadata": {},
   "source": [
    "## Part 2.1: Adding weights to the votes proportional to distance"
   ]
  },
  {
   "cell_type": "markdown",
   "metadata": {},
   "source": [
    "In the this experiment, weights are added according to distance.\n",
    "Assume k=10, which apparently gives a higher accuracy in part 1.\n",
    "In case of a tie, the first response is returned.\n",
    "No threshold is added."
   ]
  },
  {
   "cell_type": "code",
   "execution_count": 16,
   "metadata": {},
   "outputs": [
    {
     "name": "stdout",
     "output_type": "stream",
     "text": [
      "Number of train cases: 469\n",
      "Number of test cases: 100\n",
      "Accuracy: 96.0%\n"
     ]
    }
   ],
   "source": [
    "def getNeighbors(trainingSet, testInstance, k):\n",
    "\tdistances = []\n",
    "\tlength = len(testInstance)-1\n",
    "#last col:label\n",
    "\tfor x in range(len(trainingSet)):\n",
    "\t\tdist = euclideanDistance(testInstance, trainingSet[x], length)\n",
    "\t\tdistances.append([trainingSet[x], dist])\n",
    "\tdistances.sort(key=operator.itemgetter(1))  #sort the first item in a list of distances list\n",
    "\tneighbors = []\n",
    "\tfor x in range(k):\n",
    "\t\tneighbors.append(distances[x])  #append both trainingSet[x] and dist for k neighbors\n",
    "\treturn neighbors\n",
    "\n",
    "def getResponse(neighbors,proportion):\n",
    "\tclassVotes = {}\n",
    "\tfor x in range(len(neighbors)):\n",
    "\t\tresponse = neighbors[x][0][-1]\n",
    "#trainingSet, the rightmost\n",
    "#-1: from the right\n",
    "\t\tif response in classVotes:\n",
    "\t\t\tclassVotes[response] += (1/neighbors[x][1])*proportion\n",
    "\n",
    "\t\telse:\n",
    "\t\t\tclassVotes[response] = 0+ (1/neighbors[x][1])*proportion\n",
    "#the weight of every one vote is proportional to distance\n",
    "\tsortedVotes = sorted(classVotes.items(), key=operator.itemgetter(1), reverse=True)\n",
    "\treturn sortedVotes\n",
    "#return the first response in case of a tie\n",
    "\n",
    "def main():\n",
    "\t# prepare data\n",
    "\ttrainingSet=[]\n",
    "\ttestSet=[]\n",
    "\tNumOfTest = 100\n",
    "\tloadDataset('wisc_bc_data_preprocessed.csv', NumOfTest, trainingSet, testSet)\n",
    "\tprint ('Number of train cases: ' + repr(len(trainingSet)) )\n",
    "\tprint ('Number of test cases: ' + repr(len(testSet)) )\n",
    "\t# generate predictions\n",
    "\tpredictions=[]\n",
    "\tk = 10\n",
    "\tfor x in range(len(testSet)):\n",
    "\t\tneighbors = getNeighbors(trainingSet, testSet[x], k)\n",
    "\t\tproportion=100000\n",
    "\t\tresult = getResponse(neighbors,proportion)[0][0]\n",
    "\t\tpredictions.append(result)\n",
    "\t\t#print('predicted=' + repr(result) + ', actual=' + repr(testSet[x][-1]))\n",
    "\taccuracy = getAccuracy(testSet, predictions)\n",
    "\tprint('Accuracy: ' + repr(accuracy) + '%')\n",
    "\t\n",
    "main()"
   ]
  },
  {
   "cell_type": "markdown",
   "metadata": {},
   "source": [
    "The experiments gives a highest accuracy of around 96%:\n",
    "\n",
    "Number of train cases: 469\n",
    "Number of test cases: 100\n",
    "Accuracy: 96.0%"
   ]
  },
  {
   "cell_type": "markdown",
   "metadata": {},
   "source": [
    "## Part 2.2 adding a threshold to drop points too far"
   ]
  },
  {
   "cell_type": "markdown",
   "metadata": {},
   "source": [
    "In the this experiment, weights are added according to distance and a threshold is added. The weight added is inversely proportional to distance, i.e. 1/distance.\n",
    "Assume k=10, which apparently gives a higher accuracy in part 1\n",
    "In case of a tie, the first response is returned."
   ]
  },
  {
   "cell_type": "code",
   "execution_count": 17,
   "metadata": {},
   "outputs": [
    {
     "name": "stdout",
     "output_type": "stream",
     "text": [
      "Number of train cases: 469\n",
      "Number of test cases: 100\n",
      "Accuracy: 98.0%\n"
     ]
    }
   ],
   "source": [
    "def getResponse(neighbors,proportion):\n",
    "\tmean=0\n",
    "\ttotal=0\n",
    "\tfor x in range(len(neighbors)):\n",
    "\t\ttotal+=neighbors[x][1]\n",
    "\tthreshold=total/len(neighbors)*0.35\n",
    "#threshold equals the x% of mean dist\n",
    "\tfor x in range(len(neighbors)):\n",
    "\t\tif neighbors[x][1]>threshold:\n",
    "\t\t\tneighbors[x][1]=100000000\n",
    "#if dist>threshold, dist is changed to a large number and negligible\n",
    "\tclassVotes = {}\n",
    "\tfor x in range(len(neighbors)):\n",
    "\t\tresponse = neighbors[x][0][-1]\n",
    "#trainingSet, the rightmost\n",
    "#-1: from the right\n",
    "     \n",
    "\t\tif response in classVotes:\n",
    "\n",
    "\t\t\t\tclassVotes[response] += (1/neighbors[x][1])*proportion\n",
    "\t\t\t#print(neighbors[x][1])\n",
    "\t\telse:\n",
    "\n",
    "\t\t\t\tclassVotes[response] = 0+ (1/neighbors[x][1])*proportion\n",
    "#the weight of every one vote is proportional to distance\n",
    "\tsortedVotes = sorted(classVotes.items(), key=operator.itemgetter(1), reverse=True)\n",
    "\treturn sortedVotes\n",
    "#return the first response in case of a tie\n",
    "\n",
    "def main():\n",
    "\t# prepare data\n",
    "\ttrainingSet=[]\n",
    "\ttestSet=[]\n",
    "\tNumOfTest = 100\n",
    "\tloadDataset('wisc_bc_data_preprocessed.csv', NumOfTest, trainingSet, testSet)\n",
    "\tprint ('Number of train cases: ' + repr(len(trainingSet)) )\n",
    "\tprint ('Number of test cases: ' + repr(len(testSet)) )\n",
    "\t# generate predictions\n",
    "\tpredictions=[]\n",
    "\tListOfDistances=[]\n",
    "\tk = 10\n",
    "\tfor x in range(len(testSet)):\n",
    "\t\tneighbors = getNeighbors(trainingSet, testSet[x], k)\n",
    "\t\tproportion=100\n",
    "\t\tresult = getResponse(neighbors,proportion)[0][0]\n",
    "\t\tpredictions.append(result)\n",
    "\t\t#print('predicted=' + repr(result) + ', actual=' + repr(testSet[x][-1]))\n",
    "\taccuracy = getAccuracy(testSet, predictions)\n",
    "\tprint('Accuracy: ' + repr(accuracy) + '%')\n",
    "\t\n",
    "main()"
   ]
  },
  {
   "cell_type": "markdown",
   "metadata": {},
   "source": [
    "When the threshold is 35% of mean:\n",
    "\n",
    "Number of train cases: 469 Number of test cases: 100 Accuracy: 97.0%"
   ]
  },
  {
   "cell_type": "markdown",
   "metadata": {},
   "source": [
    "When the threshold is 15%, 20%, 25% or 30% of mean:\n",
    "\n",
    "Number of train cases: 469\n",
    "Number of test cases: 100\n",
    "Accuracy: 98.0%"
   ]
  },
  {
   "cell_type": "markdown",
   "metadata": {},
   "source": [
    "When the threshold is 10% of mean:\n",
    "\n",
    "Number of train cases: 469\n",
    "Number of test cases: 100\n",
    "Accuracy: 96.0%"
   ]
  },
  {
   "cell_type": "markdown",
   "metadata": {},
   "source": [
    "## Part 2.3: in case of a tie, increase/decrease k"
   ]
  },
  {
   "cell_type": "code",
   "execution_count": 18,
   "metadata": {},
   "outputs": [
    {
     "name": "stdout",
     "output_type": "stream",
     "text": [
      "Number of train cases: 469\n",
      "Number of test cases: 100\n",
      "Accuracy: 93.0%\n"
     ]
    }
   ],
   "source": [
    "def getResponse(neighbors,proportion):\n",
    "\tmean=0\n",
    "\ttotal=0\n",
    "\tfor x in range(len(neighbors)):\n",
    "\t\ttotal+=neighbors[x][1]\n",
    "\tthreshold=total/len(neighbors)*0.35\n",
    "#threshold equals the x% of mean dist\n",
    "\tfor x in range(len(neighbors)):\n",
    "\t\tif neighbors[x][1]>threshold:\n",
    "\t\t\tneighbors[x][1]=100000000\n",
    "#if dist>threshold, dist is changed to a large number and negligible\n",
    "\tclassVotes = {}\n",
    "\tfor x in range(len(neighbors)):\n",
    "\t\tresponse = neighbors[x][0][-1]\n",
    "#trainingSet, the rightmost\n",
    "#-1: from the right\n",
    "     \n",
    "\t\tif response in classVotes:\n",
    "\n",
    "\t\t\t\tclassVotes[response] += (1/neighbors[x][1])*proportion\n",
    "\t\t\t#print(neighbors[x][1])\n",
    "\t\telse:\n",
    "\n",
    "\t\t\t\tclassVotes[response] = 0+ (1/neighbors[x][1])*proportion\n",
    "#the weight of every one vote is proportional to distance\n",
    "\tsortedVotes = sorted(classVotes.items(), key=operator.itemgetter(1), reverse=True)\n",
    "\treturn sortedVotes\n",
    "#in case of a tie, return both\n",
    "\n",
    "def main():\n",
    "\t# prepare data\n",
    "\ttrainingSet=[]\n",
    "\ttestSet=[]\n",
    "\tNumOfTest = 100\n",
    "\tloadDataset('wisc_bc_data_preprocessed.csv', NumOfTest, trainingSet, testSet)\n",
    "\tprint ('Number of train cases: ' + repr(len(trainingSet)) )\n",
    "\tprint ('Number of test cases: ' + repr(len(testSet)) )\n",
    "\t# generate predictions\n",
    "\tpredictions=[]\n",
    "\tk = 10\n",
    "\tfor x in range(len(testSet)):\n",
    "\t\tneighbors = getNeighbors(trainingSet, testSet[x], k)\n",
    "\t\tproportion=1\n",
    "\t\tif len(getResponse(neighbors,proportion))==2:\n",
    "\t\t\twhile getResponse(neighbors,proportion)[0][0]==getResponse(neighbors,proportion)[1][0]:\n",
    "\t\t\t\tprint(\"tie\")\n",
    "\t\t\t\tk+=1\n",
    "#votes of 1st and 2st in the sorted list are the same\n",
    "\t\t\t\tneighbors=getNeighbors(trainingSet,testSet[x],k)\n",
    "\t\tresult = getResponse(neighbors,proportion)[0][0]\n",
    "\t\tpredictions.append(result)\n",
    "\t\t#print('predicted=' + repr(result) + ', actual=' + repr(testSet[x][-1]))\n",
    "\taccuracy = getAccuracy(testSet, predictions)\n",
    "\tprint('Accuracy: ' + repr(accuracy) + '%')\n",
    "\t\n",
    "main()"
   ]
  },
  {
   "cell_type": "markdown",
   "metadata": {},
   "source": [
    "In case weights are added according to distance, apparently a tie almost does not happen."
   ]
  },
  {
   "cell_type": "markdown",
   "metadata": {},
   "source": [
    "In the following experiment,\n",
    "threshold: false\n",
    "weights according to distance: false\n",
    "variation of k in case of tie: true\n",
    "k: 10"
   ]
  },
  {
   "cell_type": "code",
   "execution_count": 19,
   "metadata": {},
   "outputs": [
    {
     "name": "stdout",
     "output_type": "stream",
     "text": [
      "Number of train cases: 469\n",
      "Number of test cases: 100\n",
      "Accuracy: 95.0%\n"
     ]
    }
   ],
   "source": [
    "def getResponse(neighbors,proportion):\n",
    "\tclassVotes = {}\n",
    "\tfor x in range(len(neighbors)):\n",
    "\t\tresponse = neighbors[x][0][-1]\n",
    "#trainingSet, the rightmost\n",
    "#-1: from the right\n",
    "\t\tif response in classVotes:\n",
    "\t\t\tclassVotes[response] += 1\n",
    "\t\t\t#print(neighbors[x][1])\n",
    "\t\telse:\n",
    "\t\t\tclassVotes[response] = 1\n",
    "\n",
    "\tsortedVotes = sorted(classVotes.items(), key=operator.itemgetter(1), reverse=True)\n",
    "\t#print(sortedVotes)\n",
    "\treturn sortedVotes\n",
    "#in case of a tie, return both\n",
    "\n",
    "def main():\n",
    "\t# prepare data\n",
    "\ttrainingSet=[]\n",
    "\ttestSet=[]\n",
    "\tNumOfTest = 100\n",
    "\tloadDataset('wisc_bc_data_preprocessed.csv', NumOfTest, trainingSet, testSet)\n",
    "\tprint ('Number of train cases: ' + repr(len(trainingSet)) )\n",
    "\tprint ('Number of test cases: ' + repr(len(testSet)) )\n",
    "\t# generate predictions\n",
    "\tpredictions=[]\n",
    "\tk = 10\n",
    "\tfor x in range(len(testSet)):\n",
    "\t\tneighbors = getNeighbors(trainingSet, testSet[x], k)\n",
    "\t\tproportion=1\n",
    "\t\tif len(getResponse(neighbors,proportion))==2:\n",
    "\t\t\twhile getResponse(neighbors,proportion)[0][0]==getResponse(neighbors,proportion)[1][0]:\n",
    "\t\t\t\tprint(\"tie\")\n",
    "\t\t\t\tk+=1\n",
    "#votes of 1st and 2st in the sorted list are the same\n",
    "\t\t\t\tneighbors=getNeighbors(trainingSet,testSet[x],k)\n",
    "\t\tresult = getResponse(neighbors,proportion)[0][0]\n",
    "\t\tpredictions.append(result)\n",
    "\t\t#print('predicted=' + repr(result) + ', actual=' + repr(testSet[x][-1]))\n",
    "\taccuracy = getAccuracy(testSet, predictions)\n",
    "\tprint('Accuracy: ' + repr(accuracy) + '%')\n",
    "\t\n",
    "main()"
   ]
  },
  {
   "cell_type": "markdown",
   "metadata": {},
   "source": [
    "The best accuracy gives 99%:\n",
    "\n",
    "Number of train cases: 469\n",
    "Number of test cases: 100\n",
    "Accuracy: 99.0%"
   ]
  },
  {
   "cell_type": "markdown",
   "metadata": {},
   "source": [
    "In case every nearest neighbor has one vote irespect to distance, apparently a tie almost does not happen neither.\n",
    "So it is assumed the case of a tie is negligible."
   ]
  },
  {
   "cell_type": "markdown",
   "metadata": {},
   "source": [
    "# Part 3 Different ways of splitting the data"
   ]
  },
  {
   "cell_type": "markdown",
   "metadata": {},
   "source": [
    "In the above the ratio of training subset and testing subset is fixed to be 469:100 and the test cases are selected randomly.\n",
    "Lastly, the ratio will be varied, using setting of the best performance attainable so far:\n",
    "\n",
    "threshold: false\n",
    "weights according to distance: false\n",
    "variation of k in case of tie: true\n",
    "k: 10"
   ]
  },
  {
   "cell_type": "code",
   "execution_count": 21,
   "metadata": {},
   "outputs": [
    {
     "name": "stdout",
     "output_type": "stream",
     "text": [
      "Number of train cases: 327\n",
      "Number of test cases: 242\n",
      "Accuracy: 95.86776859504133%\n"
     ]
    }
   ],
   "source": [
    "def loadDataset(filename, ratio, trainingSet=[] , testSet=[]):\n",
    "\twith open(filename, 'r') as csvfile:\n",
    "\t    lines = csv.reader(csvfile)\n",
    "\t    next(lines, None)\n",
    "#skip the first line which is headers\n",
    "\t    datarow = list(lines)\n",
    "\t    for x in range(len(datarow)):\n",
    "\t        for y in range(30):\n",
    "\t            datarow[x][y] = float(datarow[x][y])\n",
    "\t        \n",
    "\t        if random.random() < ratio:\n",
    "#0<=random.random()<=1, ratio is train case:test case\n",
    "\t            trainingSet.append(datarow[x])\n",
    "\t        else:\n",
    "\t            testSet.append(datarow[x])\n",
    "\n",
    "def getResponse(neighbors,proportion):\n",
    "\tclassVotes = {}\n",
    "\tfor x in range(len(neighbors)):\n",
    "\t\tresponse = neighbors[x][0][-1]\n",
    "#trainingSet, the rightmost\n",
    "#-1: from the right\n",
    "\t\tif response in classVotes:\n",
    "\t\t\tclassVotes[response] += 1\n",
    "\t\t\t#print(neighbors[x][1])\n",
    "\t\telse:\n",
    "\t\t\tclassVotes[response] = 1\n",
    "\n",
    "\tsortedVotes = sorted(classVotes.items(), key=operator.itemgetter(1), reverse=True)\n",
    "\t#print(sortedVotes)\n",
    "\treturn sortedVotes\n",
    "#in case of a tie, return both\n",
    "\n",
    "def main():\n",
    "\t# prepare data\n",
    "\ttrainingSet=[]\n",
    "\ttestSet=[]\n",
    "\tratio = 0.6\n",
    "\tloadDataset('wisc_bc_data_preprocessed.csv', ratio, trainingSet, testSet)\n",
    "\tprint ('Number of train cases: ' + repr(len(trainingSet)) )\n",
    "\tprint ('Number of test cases: ' + repr(len(testSet)) )\n",
    "\t# generate predictions\n",
    "\tpredictions=[]\n",
    "\tk = 10\n",
    "\tfor x in range(len(testSet)):\n",
    "\t\tneighbors = getNeighbors(trainingSet, testSet[x], k)\n",
    "\t\tproportion=1\n",
    "\t\tif len(getResponse(neighbors,proportion))==2:\n",
    "\t\t\twhile getResponse(neighbors,proportion)[0][0]==getResponse(neighbors,proportion)[1][0]:\n",
    "\t\t\t\tprint(\"tie\")\n",
    "\t\t\t\tk+=1\n",
    "#votes of 1st and 2st in the sorted list are the same\n",
    "\t\t\t\tneighbors=getNeighbors(trainingSet,testSet[x],k)\n",
    "\t\tresult = getResponse(neighbors,proportion)[0][0]\n",
    "\t\tpredictions.append(result)\n",
    "\t\t#print('predicted=' + repr(result) + ', actual=' + repr(testSet[x][-1]))\n",
    "\taccuracy = getAccuracy(testSet, predictions)\n",
    "\tprint('Accuracy: ' + repr(accuracy) + '%')\n",
    "\t\n",
    "main()"
   ]
  },
  {
   "cell_type": "markdown",
   "metadata": {},
   "source": [
    "In case ratio is 0.8 or 0.9, the best case is:\n",
    "\n",
    "Number of train cases: 456\n",
    "Number of test cases: 113\n",
    "Accuracy: 100.0%\n",
    "\n",
    "Number of train cases: 514\n",
    "Number of test cases: 55\n",
    "Accuracy: 100.0%\n",
    "\n",
    "Number of train cases: 507\n",
    "Number of test cases: 62\n",
    "Accuracy: 100.0%"
   ]
  },
  {
   "cell_type": "markdown",
   "metadata": {},
   "source": [
    "If the ratio is 0.7, the highest accuracy becomes:\n",
    "\n",
    "Number of train cases: 417\n",
    "Number of test cases: 152\n",
    "Accuracy: 98.68421052631578%"
   ]
  },
  {
   "cell_type": "markdown",
   "metadata": {},
   "source": [
    "When the ratio is 0.6, the highest accuracy is:\n",
    "\n",
    "Number of train cases: 337\n",
    "Number of test cases: 232\n",
    "Accuracy: 97.41379310344827%"
   ]
  },
  {
   "cell_type": "markdown",
   "metadata": {},
   "source": [
    "It shows that the higher the number of train cases, the more accurate the prediction is perhaps due to a larger knowledge base to assist in a judgement. The less the number of test cases, the higher chance to reach the highest accuracy because of less challenges probably."
   ]
  },
  {
   "cell_type": "markdown",
   "metadata": {},
   "source": [
    "# Conclusions\n",
    "In conclusion, the best result setting among the above experiments are:\n",
    "ratio of splitting: 0.9\n",
    "threshold: false\n",
    "weights according to distance: false\n",
    "variation of k in case of tie: true\n",
    "k: 10"
   ]
  },
  {
   "cell_type": "markdown",
   "metadata": {},
   "source": [
    "# References\n",
    "1. https://machinelearningmastery.com/tutorial-to-implement-k-nearest-neighbors-in-python-from-scratch/\n",
    "2. https://www.python-course.eu/k_nearest_neighbor_classifier.php"
   ]
  }
 ],
 "metadata": {
  "kernelspec": {
   "display_name": "Python 3",
   "language": "python",
   "name": "python3"
  },
  "language_info": {
   "codemirror_mode": {
    "name": "ipython",
    "version": 3
   },
   "file_extension": ".py",
   "mimetype": "text/x-python",
   "name": "python",
   "nbconvert_exporter": "python",
   "pygments_lexer": "ipython3",
   "version": "3.7.3"
  }
 },
 "nbformat": 4,
 "nbformat_minor": 2
}
